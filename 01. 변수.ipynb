{
 "cells": [
  {
   "cell_type": "markdown",
   "id": "80741808",
   "metadata": {},
   "source": [
    "# Chapter01. 데이터"
   ]
  },
  {
   "cell_type": "code",
   "execution_count": 16,
   "id": "16e5c56f",
   "metadata": {},
   "outputs": [],
   "source": [
    "import pandas as pd"
   ]
  },
  {
   "cell_type": "code",
   "execution_count": 5,
   "id": "fcd01f75",
   "metadata": {},
   "outputs": [],
   "source": [
    "df=pd.read_csv(\"data/ch1_sport_test.csv\", index_col=\"학생번호\")"
   ]
  },
  {
   "cell_type": "code",
   "execution_count": 6,
   "id": "6cb73460",
   "metadata": {
    "scrolled": true
   },
   "outputs": [
    {
     "data": {
      "text/html": [
       "<div>\n",
       "<style scoped>\n",
       "    .dataframe tbody tr th:only-of-type {\n",
       "        vertical-align: middle;\n",
       "    }\n",
       "\n",
       "    .dataframe tbody tr th {\n",
       "        vertical-align: top;\n",
       "    }\n",
       "\n",
       "    .dataframe thead th {\n",
       "        text-align: right;\n",
       "    }\n",
       "</style>\n",
       "<table border=\"1\" class=\"dataframe\">\n",
       "  <thead>\n",
       "    <tr style=\"text-align: right;\">\n",
       "      <th></th>\n",
       "      <th>학년</th>\n",
       "      <th>악력</th>\n",
       "      <th>윗몸일으키기</th>\n",
       "      <th>점수</th>\n",
       "      <th>순위</th>\n",
       "    </tr>\n",
       "    <tr>\n",
       "      <th>학생번호</th>\n",
       "      <th></th>\n",
       "      <th></th>\n",
       "      <th></th>\n",
       "      <th></th>\n",
       "      <th></th>\n",
       "    </tr>\n",
       "  </thead>\n",
       "  <tbody>\n",
       "    <tr>\n",
       "      <th>1</th>\n",
       "      <td>1</td>\n",
       "      <td>40.2</td>\n",
       "      <td>34</td>\n",
       "      <td>15</td>\n",
       "      <td>4</td>\n",
       "    </tr>\n",
       "    <tr>\n",
       "      <th>2</th>\n",
       "      <td>1</td>\n",
       "      <td>34.2</td>\n",
       "      <td>14</td>\n",
       "      <td>7</td>\n",
       "      <td>10</td>\n",
       "    </tr>\n",
       "    <tr>\n",
       "      <th>3</th>\n",
       "      <td>1</td>\n",
       "      <td>28.8</td>\n",
       "      <td>27</td>\n",
       "      <td>11</td>\n",
       "      <td>7</td>\n",
       "    </tr>\n",
       "    <tr>\n",
       "      <th>4</th>\n",
       "      <td>2</td>\n",
       "      <td>39.0</td>\n",
       "      <td>27</td>\n",
       "      <td>14</td>\n",
       "      <td>5</td>\n",
       "    </tr>\n",
       "    <tr>\n",
       "      <th>5</th>\n",
       "      <td>2</td>\n",
       "      <td>50.9</td>\n",
       "      <td>32</td>\n",
       "      <td>17</td>\n",
       "      <td>2</td>\n",
       "    </tr>\n",
       "    <tr>\n",
       "      <th>6</th>\n",
       "      <td>2</td>\n",
       "      <td>36.5</td>\n",
       "      <td>20</td>\n",
       "      <td>9</td>\n",
       "      <td>9</td>\n",
       "    </tr>\n",
       "    <tr>\n",
       "      <th>7</th>\n",
       "      <td>3</td>\n",
       "      <td>36.6</td>\n",
       "      <td>31</td>\n",
       "      <td>13</td>\n",
       "      <td>6</td>\n",
       "    </tr>\n",
       "    <tr>\n",
       "      <th>8</th>\n",
       "      <td>3</td>\n",
       "      <td>49.2</td>\n",
       "      <td>37</td>\n",
       "      <td>18</td>\n",
       "      <td>1</td>\n",
       "    </tr>\n",
       "    <tr>\n",
       "      <th>9</th>\n",
       "      <td>3</td>\n",
       "      <td>26.0</td>\n",
       "      <td>28</td>\n",
       "      <td>10</td>\n",
       "      <td>8</td>\n",
       "    </tr>\n",
       "    <tr>\n",
       "      <th>10</th>\n",
       "      <td>3</td>\n",
       "      <td>47.4</td>\n",
       "      <td>32</td>\n",
       "      <td>16</td>\n",
       "      <td>3</td>\n",
       "    </tr>\n",
       "  </tbody>\n",
       "</table>\n",
       "</div>"
      ],
      "text/plain": [
       "      학년    악력  윗몸일으키기  점수  순위\n",
       "학생번호                          \n",
       "1      1  40.2      34  15   4\n",
       "2      1  34.2      14   7  10\n",
       "3      1  28.8      27  11   7\n",
       "4      2  39.0      27  14   5\n",
       "5      2  50.9      32  17   2\n",
       "6      2  36.5      20   9   9\n",
       "7      3  36.6      31  13   6\n",
       "8      3  49.2      37  18   1\n",
       "9      3  26.0      28  10   8\n",
       "10     3  47.4      32  16   3"
      ]
     },
     "execution_count": 6,
     "metadata": {},
     "output_type": "execute_result"
    }
   ],
   "source": [
    "df"
   ]
  },
  {
   "cell_type": "code",
   "execution_count": 13,
   "id": "710b1ee4",
   "metadata": {},
   "outputs": [
    {
     "data": {
      "text/plain": [
       "(10, 5)"
      ]
     },
     "execution_count": 13,
     "metadata": {},
     "output_type": "execute_result"
    }
   ],
   "source": [
    "df.shape #학년, 악력, 윗몸일으키디, 점수, 순위 라는 5개 항목이 있고, 10명의 데이터임을 알 수 있음 "
   ]
  },
  {
   "cell_type": "code",
   "execution_count": 12,
   "id": "f83dc7c7",
   "metadata": {},
   "outputs": [
    {
     "data": {
      "text/plain": [
       "학생번호\n",
       "1     40.2\n",
       "2     34.2\n",
       "3     28.8\n",
       "4     39.0\n",
       "5     50.9\n",
       "6     36.5\n",
       "7     36.6\n",
       "8     49.2\n",
       "9     26.0\n",
       "10    47.4\n",
       "Name: 악력, dtype: float64"
      ]
     },
     "execution_count": 12,
     "metadata": {},
     "output_type": "execute_result"
    }
   ],
   "source": [
    "df['악력'] #특정 열 추출 "
   ]
  },
  {
   "cell_type": "code",
   "execution_count": 15,
   "id": "990e1b03",
   "metadata": {},
   "outputs": [
    {
     "data": {
      "text/plain": [
       "pandas.core.series.Series"
      ]
     },
     "execution_count": 15,
     "metadata": {},
     "output_type": "execute_result"
    }
   ],
   "source": [
    "type(df['악력']) #DataFrame(2차원의 표 데이터 구조)이 아닌 Series(1차원의 데이터 구조)라는 데이터 구조"
   ]
  },
  {
   "cell_type": "markdown",
   "id": "019c703d",
   "metadata": {},
   "source": [
    "## Section1.1. 데이터의 크기"
   ]
  },
  {
   "cell_type": "code",
   "execution_count": 17,
   "id": "ae203b7e",
   "metadata": {},
   "outputs": [
    {
     "data": {
      "text/plain": [
       "(10, 5)"
      ]
     },
     "execution_count": 17,
     "metadata": {},
     "output_type": "execute_result"
    }
   ],
   "source": [
    "df.shape #DataFrame의 크기는 shape라는 인스턴스 변수 참조 #레코드 수, 칼럼 수 "
   ]
  },
  {
   "cell_type": "markdown",
   "id": "7171f019",
   "metadata": {},
   "source": [
    "## Section1.2. 변수의 종류"
   ]
  },
  {
   "cell_type": "markdown",
   "id": "4fd32afa",
   "metadata": {},
   "source": [
    "### 1.2.1. 질적 변수와 양적 변수"
   ]
  },
  {
   "cell_type": "markdown",
   "id": "413fa0a3",
   "metadata": {},
   "source": [
    "### 질적변수 : \n",
    "### ex) 1.매우 좋음 2.좋음 3.보통 4.나쁨 5.매우 나쁨\n",
    "###  ex) 1.A형 2.B형 3.O형 4.AB형\n",
    "### 양적변수 : \n",
    "### ex) 시험 점수, 신장 같이 양을 표현하는 변수"
   ]
  },
  {
   "cell_type": "markdown",
   "id": "3b89fa5b",
   "metadata": {},
   "source": [
    "### 1.2.2. 척도 수준"
   ]
  },
  {
   "cell_type": "markdown",
   "id": "bffc2720",
   "metadata": {},
   "source": [
    "### 질적 변수 : 명의 척도, 순서 척도\n",
    "### 양적 변수 : 간격 척도, 비례 척도"
   ]
  },
  {
   "cell_type": "markdown",
   "id": "1bde074d",
   "metadata": {},
   "source": [
    "- 명의 척도 : 단순히 분류하기 위한 변수 (ex) 학생번호, 전화번호, 성별\n",
    "- 순서 척도 : 순서 관계나 대소 관계에 의미가 있는 변수 (ex) 성적 순위, 설문조사 만족도\n",
    "- 간격 척도 : 대소 관계와 함께 그 차이에도 의미를 두는 변수 (ex) 연도, 온도\n",
    "- 비례 척도 : 대소 관계, 차이, 비 모두에 의미가 있는 변수 (ex) 길이가 50cm와 100cm 있다면 차이가 50cm 차이, 2배 차이 "
   ]
  },
  {
   "cell_type": "markdown",
   "id": "a1dfdd1d",
   "metadata": {},
   "source": [
    "### 1.2.3. 이산형 변수와 연속형 변수"
   ]
  },
  {
   "cell_type": "markdown",
   "id": "1185ea8d",
   "metadata": {},
   "source": [
    "### 이산형 변수 : 0,1,2,...와 같이 하나하나의 값을 취하는 변수"
   ]
  },
  {
   "cell_type": "markdown",
   "id": "087102e1",
   "metadata": {},
   "source": [
    "### 연속형 변수 : 연속적인 값을 취할 수 있는 변수 "
   ]
  }
 ],
 "metadata": {
  "kernelspec": {
   "display_name": "Python 3",
   "language": "python",
   "name": "python3"
  },
  "language_info": {
   "codemirror_mode": {
    "name": "ipython",
    "version": 3
   },
   "file_extension": ".py",
   "mimetype": "text/x-python",
   "name": "python",
   "nbconvert_exporter": "python",
   "pygments_lexer": "ipython3",
   "version": "3.8.8"
  }
 },
 "nbformat": 4,
 "nbformat_minor": 5
}
